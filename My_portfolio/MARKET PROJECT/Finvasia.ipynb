{
 "cells": [
  {
   "cell_type": "code",
   "execution_count": 2,
   "metadata": {},
   "outputs": [
    {
     "name": "stdout",
     "output_type": "stream",
     "text": [
      "Defaulting to user installation because normal site-packages is not writeableNote: you may need to restart the kernel to use updated packages.\n",
      "\n",
      "Processing f:\\upflairs\\market project\\norenrestapipy-0.0.16-py2.py3-none-any.whl\n",
      "Installing collected packages: NorenRestApiPy\n",
      "Successfully installed NorenRestApiPy-0.0.16\n"
     ]
    },
    {
     "name": "stderr",
     "output_type": "stream",
     "text": [
      "\n",
      "[notice] A new release of pip is available: 24.0 -> 24.1.2\n",
      "[notice] To update, run: python.exe -m pip install --upgrade pip\n"
     ]
    }
   ],
   "source": [
    "pip install \"F:\\Upflairs\\MARKET PROJECT\\NorenRestApiPy-0.0.16-py2.py3-none-any.whl\"\n"
   ]
  },
  {
   "cell_type": "code",
   "execution_count": null,
   "metadata": {},
   "outputs": [],
   "source": [
    "from NorenRestApiPy.NorenApi import  NorenApi\n",
    "\n",
    "class NorenApiPy(NorenApi):\n",
    "    def __init__(self):\n",
    "        NorenApi.__init__(self, host='https://piconnect.flattrade.in/PiConnectTP/', websocket='wss://piconnect.flattrade.in/PiConnectWSTp/', eodhost='https://web.flattrade.in/chartApi/getdata/')\n",
    "       "
   ]
  },
  {
   "cell_type": "code",
   "execution_count": null,
   "metadata": {},
   "outputs": [],
   "source": [
    "import logging\n",
    "\n",
    "#enable dbug to see request and responses\n",
    "logging.basicConfig(level=logging.DEBUG)\n",
    "\n",
    "#start of our program\n",
    "api = NorenApiPy()\n",
    "\n",
    "#set token and user id\n",
    "#paste the token generated using the login flow described \n",
    "# in LOGIN FLOW of https://pi.flattrade.in/docs\n",
    "usersession='token here'\n",
    "userid = 'user id here'\n",
    "\n",
    "ret = api.set_session(userid= \"FA68357\", password = 'P$aa93149', usertoken= usersession)\n",
    "\n",
    "ret = api.get_limits()\n",
    " \n",
    "print(ret)\n"
   ]
  }
 ],
 "metadata": {
  "kernelspec": {
   "display_name": "Python 3",
   "language": "python",
   "name": "python3"
  },
  "language_info": {
   "codemirror_mode": {
    "name": "ipython",
    "version": 3
   },
   "file_extension": ".py",
   "mimetype": "text/x-python",
   "name": "python",
   "nbconvert_exporter": "python",
   "pygments_lexer": "ipython3",
   "version": "3.12.2"
  }
 },
 "nbformat": 4,
 "nbformat_minor": 2
}
